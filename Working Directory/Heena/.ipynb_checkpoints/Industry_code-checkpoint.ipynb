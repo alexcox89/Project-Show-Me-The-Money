{
 "cells": [
  {
   "cell_type": "markdown",
   "metadata": {},
   "source": [
    "# Create Visualization for Portfolio Sector/Industry Weights"
   ]
  },
  {
   "cell_type": "markdown",
   "metadata": {},
   "source": [
    "Function:  Industry Weights\n",
    "\n",
    "* Input (1 portfolio)\n",
    "\n",
    "    * Dataframe\n",
    "        * Columns\n",
    "        * Ticker\n",
    "        * shares per ticker\n",
    "        * Industry\n",
    "    * Goal: Specific Dates - input from dashboard\n",
    "\n",
    "        \n",
    "* Output\n",
    "\n",
    "    * Industry weight for portfolio\n",
    "    * Sector weight for portfolio(?)\n",
    " "
   ]
  },
  {
   "cell_type": "code",
   "execution_count": null,
   "metadata": {},
   "outputs": [],
   "source": []
  },
  {
   "cell_type": "code",
   "execution_count": 344,
   "metadata": {},
   "outputs": [],
   "source": [
    "# Import libraries\n",
    "\n",
    "import pandas as pd\n",
    "import numpy as np\n",
    "import datetime as dt\n",
    "from pathlib import Path\n",
    "\n",
    "from dotenv import load_dotenv\n",
    "\n",
    "%matplotlib inline\n"
   ]
  },
  {
   "cell_type": "code",
   "execution_count": 345,
   "metadata": {},
   "outputs": [],
   "source": [
    "# import csv\n",
    "# from pathlib import Path\n",
    "# import pandas as pd\n",
    "# from pandas import DataFrame\n",
    "# import os\n",
    "# from dotenv import load_dotenv\n",
    "# from datetime import datetime\n",
    "# from datetime import date\n",
    "# from datetime import timedelta\n",
    "\n",
    "\n",
    "# import requests\n",
    "# import json"
   ]
  },
  {
   "cell_type": "code",
   "execution_count": 346,
   "metadata": {},
   "outputs": [],
   "source": [
    "# Set the path for the csv files\n",
    "\n",
    "portfolio_csv = Path(\"TestPortfolio.csv\")\n",
    "sector_csv = Path(\"api_sample_1.csv\")\n",
    "\n",
    "# Reading csv files\n",
    "\n",
    "portfolio_df = pd.read_csv(portfolio_csv)\n",
    "sector_df = pd.read_csv(sector_csv)\n"
   ]
  },
  {
   "cell_type": "code",
   "execution_count": 347,
   "metadata": {},
   "outputs": [
    {
     "data": {
      "text/html": [
       "<div>\n",
       "<style scoped>\n",
       "    .dataframe tbody tr th:only-of-type {\n",
       "        vertical-align: middle;\n",
       "    }\n",
       "\n",
       "    .dataframe tbody tr th {\n",
       "        vertical-align: top;\n",
       "    }\n",
       "\n",
       "    .dataframe thead th {\n",
       "        text-align: right;\n",
       "    }\n",
       "</style>\n",
       "<table border=\"1\" class=\"dataframe\">\n",
       "  <thead>\n",
       "    <tr style=\"text-align: right;\">\n",
       "      <th></th>\n",
       "      <th>Ticker</th>\n",
       "      <th>Industry</th>\n",
       "      <th>Sector</th>\n",
       "    </tr>\n",
       "  </thead>\n",
       "  <tbody>\n",
       "    <tr>\n",
       "      <th>0</th>\n",
       "      <td>AAPL</td>\n",
       "      <td>Computer Hardware</td>\n",
       "      <td>Technology</td>\n",
       "    </tr>\n",
       "    <tr>\n",
       "      <th>1</th>\n",
       "      <td>GOOG</td>\n",
       "      <td>Online Media</td>\n",
       "      <td>Technology</td>\n",
       "    </tr>\n",
       "    <tr>\n",
       "      <th>2</th>\n",
       "      <td>TSLA</td>\n",
       "      <td>Autos</td>\n",
       "      <td>Consumer Cyclical</td>\n",
       "    </tr>\n",
       "  </tbody>\n",
       "</table>\n",
       "</div>"
      ],
      "text/plain": [
       "  Ticker           Industry             Sector\n",
       "0   AAPL  Computer Hardware         Technology\n",
       "1   GOOG       Online Media         Technology\n",
       "2   TSLA              Autos  Consumer Cyclical"
      ]
     },
     "execution_count": 347,
     "metadata": {},
     "output_type": "execute_result"
    }
   ],
   "source": [
    "# Industry / Sector Info provided for stocks in portfolio\n",
    "\n",
    "sector_df"
   ]
  },
  {
   "cell_type": "code",
   "execution_count": 348,
   "metadata": {},
   "outputs": [
    {
     "data": {
      "text/html": [
       "<div>\n",
       "<style scoped>\n",
       "    .dataframe tbody tr th:only-of-type {\n",
       "        vertical-align: middle;\n",
       "    }\n",
       "\n",
       "    .dataframe tbody tr th {\n",
       "        vertical-align: top;\n",
       "    }\n",
       "\n",
       "    .dataframe thead th {\n",
       "        text-align: right;\n",
       "    }\n",
       "</style>\n",
       "<table border=\"1\" class=\"dataframe\">\n",
       "  <thead>\n",
       "    <tr style=\"text-align: right;\">\n",
       "      <th></th>\n",
       "      <th>Ticker</th>\n",
       "      <th>Transaction</th>\n",
       "      <th>Date</th>\n",
       "      <th>Transaction Price</th>\n",
       "      <th>Number of shares</th>\n",
       "    </tr>\n",
       "  </thead>\n",
       "  <tbody>\n",
       "    <tr>\n",
       "      <th>0</th>\n",
       "      <td>AAPL</td>\n",
       "      <td>B</td>\n",
       "      <td>3/5/12</td>\n",
       "      <td>77.80</td>\n",
       "      <td>100</td>\n",
       "    </tr>\n",
       "    <tr>\n",
       "      <th>1</th>\n",
       "      <td>AAPL</td>\n",
       "      <td>B</td>\n",
       "      <td>4/1/13</td>\n",
       "      <td>60.57</td>\n",
       "      <td>100</td>\n",
       "    </tr>\n",
       "    <tr>\n",
       "      <th>2</th>\n",
       "      <td>TSLA</td>\n",
       "      <td>B</td>\n",
       "      <td>9/23/13</td>\n",
       "      <td>189.90</td>\n",
       "      <td>100</td>\n",
       "    </tr>\n",
       "    <tr>\n",
       "      <th>3</th>\n",
       "      <td>TSLA</td>\n",
       "      <td>S</td>\n",
       "      <td>11/18/13</td>\n",
       "      <td>122.38</td>\n",
       "      <td>75</td>\n",
       "    </tr>\n",
       "    <tr>\n",
       "      <th>4</th>\n",
       "      <td>TSLA</td>\n",
       "      <td>B</td>\n",
       "      <td>5/9/16</td>\n",
       "      <td>208.00</td>\n",
       "      <td>30</td>\n",
       "    </tr>\n",
       "    <tr>\n",
       "      <th>5</th>\n",
       "      <td>GOOG</td>\n",
       "      <td>B</td>\n",
       "      <td>8/7/17</td>\n",
       "      <td>915.39</td>\n",
       "      <td>10</td>\n",
       "    </tr>\n",
       "    <tr>\n",
       "      <th>6</th>\n",
       "      <td>AAPL</td>\n",
       "      <td>S</td>\n",
       "      <td>3/16/20</td>\n",
       "      <td>240.00</td>\n",
       "      <td>50</td>\n",
       "    </tr>\n",
       "  </tbody>\n",
       "</table>\n",
       "</div>"
      ],
      "text/plain": [
       "  Ticker Transaction      Date  Transaction Price  Number of shares\n",
       "0   AAPL           B    3/5/12              77.80               100\n",
       "1   AAPL           B    4/1/13              60.57               100\n",
       "2   TSLA           B   9/23/13             189.90               100\n",
       "3   TSLA           S  11/18/13             122.38                75\n",
       "4   TSLA           B    5/9/16             208.00                30\n",
       "5   GOOG           B    8/7/17             915.39                10\n",
       "6   AAPL           S   3/16/20             240.00                50"
      ]
     },
     "execution_count": 348,
     "metadata": {},
     "output_type": "execute_result"
    }
   ],
   "source": [
    "# Input (Portfolio) provided with number and price of shares purchased and sold\n",
    "\n",
    "portfolio_df"
   ]
  },
  {
   "cell_type": "code",
   "execution_count": 349,
   "metadata": {},
   "outputs": [
    {
     "data": {
      "text/plain": [
       "Ticker                object\n",
       "Transaction           object\n",
       "Date                  object\n",
       "Transaction Price    float64\n",
       "Number of shares       int64\n",
       "dtype: object"
      ]
     },
     "execution_count": 349,
     "metadata": {},
     "output_type": "execute_result"
    }
   ],
   "source": [
    "# Datacleaning if needed\n",
    "\n",
    "portfolio_df.dtypes"
   ]
  },
  {
   "cell_type": "code",
   "execution_count": 350,
   "metadata": {},
   "outputs": [
    {
     "data": {
      "text/html": [
       "<div>\n",
       "<style scoped>\n",
       "    .dataframe tbody tr th:only-of-type {\n",
       "        vertical-align: middle;\n",
       "    }\n",
       "\n",
       "    .dataframe tbody tr th {\n",
       "        vertical-align: top;\n",
       "    }\n",
       "\n",
       "    .dataframe thead th {\n",
       "        text-align: right;\n",
       "    }\n",
       "</style>\n",
       "<table border=\"1\" class=\"dataframe\">\n",
       "  <thead>\n",
       "    <tr style=\"text-align: right;\">\n",
       "      <th></th>\n",
       "      <th>Ticker</th>\n",
       "      <th>Transaction</th>\n",
       "      <th>Date</th>\n",
       "      <th>Transaction Price</th>\n",
       "      <th>Number of shares</th>\n",
       "      <th>Cost</th>\n",
       "    </tr>\n",
       "  </thead>\n",
       "  <tbody>\n",
       "    <tr>\n",
       "      <th>0</th>\n",
       "      <td>AAPL</td>\n",
       "      <td>B</td>\n",
       "      <td>3/5/12</td>\n",
       "      <td>77.80</td>\n",
       "      <td>100</td>\n",
       "      <td>7780.0</td>\n",
       "    </tr>\n",
       "    <tr>\n",
       "      <th>1</th>\n",
       "      <td>AAPL</td>\n",
       "      <td>B</td>\n",
       "      <td>4/1/13</td>\n",
       "      <td>60.57</td>\n",
       "      <td>100</td>\n",
       "      <td>6057.0</td>\n",
       "    </tr>\n",
       "    <tr>\n",
       "      <th>2</th>\n",
       "      <td>TSLA</td>\n",
       "      <td>B</td>\n",
       "      <td>9/23/13</td>\n",
       "      <td>189.90</td>\n",
       "      <td>100</td>\n",
       "      <td>18990.0</td>\n",
       "    </tr>\n",
       "    <tr>\n",
       "      <th>3</th>\n",
       "      <td>TSLA</td>\n",
       "      <td>S</td>\n",
       "      <td>11/18/13</td>\n",
       "      <td>122.38</td>\n",
       "      <td>75</td>\n",
       "      <td>9178.5</td>\n",
       "    </tr>\n",
       "    <tr>\n",
       "      <th>4</th>\n",
       "      <td>TSLA</td>\n",
       "      <td>B</td>\n",
       "      <td>5/9/16</td>\n",
       "      <td>208.00</td>\n",
       "      <td>30</td>\n",
       "      <td>6240.0</td>\n",
       "    </tr>\n",
       "    <tr>\n",
       "      <th>5</th>\n",
       "      <td>GOOG</td>\n",
       "      <td>B</td>\n",
       "      <td>8/7/17</td>\n",
       "      <td>915.39</td>\n",
       "      <td>10</td>\n",
       "      <td>9153.9</td>\n",
       "    </tr>\n",
       "    <tr>\n",
       "      <th>6</th>\n",
       "      <td>AAPL</td>\n",
       "      <td>S</td>\n",
       "      <td>3/16/20</td>\n",
       "      <td>240.00</td>\n",
       "      <td>50</td>\n",
       "      <td>12000.0</td>\n",
       "    </tr>\n",
       "  </tbody>\n",
       "</table>\n",
       "</div>"
      ],
      "text/plain": [
       "  Ticker Transaction      Date  Transaction Price  Number of shares     Cost\n",
       "0   AAPL           B    3/5/12              77.80               100   7780.0\n",
       "1   AAPL           B    4/1/13              60.57               100   6057.0\n",
       "2   TSLA           B   9/23/13             189.90               100  18990.0\n",
       "3   TSLA           S  11/18/13             122.38                75   9178.5\n",
       "4   TSLA           B    5/9/16             208.00                30   6240.0\n",
       "5   GOOG           B    8/7/17             915.39                10   9153.9\n",
       "6   AAPL           S   3/16/20             240.00                50  12000.0"
      ]
     },
     "execution_count": 350,
     "metadata": {},
     "output_type": "execute_result"
    }
   ],
   "source": [
    "# Create new column \"Cost\" to reflect total $ value of purchased/sold shares\n",
    "\n",
    "portfolio_df[\"Cost\"]=portfolio_df[\"Transaction Price\"]*portfolio_df[\"Number of shares\"]\n",
    "portfolio_df"
   ]
  },
  {
   "cell_type": "code",
   "execution_count": 351,
   "metadata": {},
   "outputs": [
    {
     "data": {
      "text/html": [
       "<div>\n",
       "<style scoped>\n",
       "    .dataframe tbody tr th:only-of-type {\n",
       "        vertical-align: middle;\n",
       "    }\n",
       "\n",
       "    .dataframe tbody tr th {\n",
       "        vertical-align: top;\n",
       "    }\n",
       "\n",
       "    .dataframe thead th {\n",
       "        text-align: right;\n",
       "    }\n",
       "</style>\n",
       "<table border=\"1\" class=\"dataframe\">\n",
       "  <thead>\n",
       "    <tr style=\"text-align: right;\">\n",
       "      <th></th>\n",
       "      <th>Ticker</th>\n",
       "      <th>Transaction</th>\n",
       "      <th>Number of shares</th>\n",
       "      <th>Cost</th>\n",
       "    </tr>\n",
       "  </thead>\n",
       "  <tbody>\n",
       "    <tr>\n",
       "      <th>0</th>\n",
       "      <td>AAPL</td>\n",
       "      <td>B</td>\n",
       "      <td>200</td>\n",
       "      <td>13837.0</td>\n",
       "    </tr>\n",
       "    <tr>\n",
       "      <th>1</th>\n",
       "      <td>AAPL</td>\n",
       "      <td>S</td>\n",
       "      <td>50</td>\n",
       "      <td>12000.0</td>\n",
       "    </tr>\n",
       "    <tr>\n",
       "      <th>2</th>\n",
       "      <td>GOOG</td>\n",
       "      <td>B</td>\n",
       "      <td>10</td>\n",
       "      <td>9153.9</td>\n",
       "    </tr>\n",
       "    <tr>\n",
       "      <th>3</th>\n",
       "      <td>TSLA</td>\n",
       "      <td>B</td>\n",
       "      <td>130</td>\n",
       "      <td>25230.0</td>\n",
       "    </tr>\n",
       "    <tr>\n",
       "      <th>4</th>\n",
       "      <td>TSLA</td>\n",
       "      <td>S</td>\n",
       "      <td>75</td>\n",
       "      <td>9178.5</td>\n",
       "    </tr>\n",
       "  </tbody>\n",
       "</table>\n",
       "</div>"
      ],
      "text/plain": [
       "  Ticker Transaction  Number of shares     Cost\n",
       "0   AAPL           B               200  13837.0\n",
       "1   AAPL           S                50  12000.0\n",
       "2   GOOG           B                10   9153.9\n",
       "3   TSLA           B               130  25230.0\n",
       "4   TSLA           S                75   9178.5"
      ]
     },
     "execution_count": 351,
     "metadata": {},
     "output_type": "execute_result"
    }
   ],
   "source": [
    "# Create new table with total shares and cost of shares purchased and sold\n",
    "\n",
    "basis_df=pd.DataFrame(portfolio_df.groupby([\"Ticker\", \"Transaction\"])[\"Number of shares\"].sum())\n",
    "basis_df[\"Cost\"]=portfolio_df.groupby([\"Ticker\", \"Transaction\"])[\"Cost\"].sum()\n",
    "basis_df = basis_df.reset_index()\n",
    "basis_df"
   ]
  },
  {
   "cell_type": "code",
   "execution_count": 352,
   "metadata": {},
   "outputs": [
    {
     "data": {
      "text/html": [
       "<div>\n",
       "<style scoped>\n",
       "    .dataframe tbody tr th:only-of-type {\n",
       "        vertical-align: middle;\n",
       "    }\n",
       "\n",
       "    .dataframe tbody tr th {\n",
       "        vertical-align: top;\n",
       "    }\n",
       "\n",
       "    .dataframe thead tr th {\n",
       "        text-align: left;\n",
       "    }\n",
       "\n",
       "    .dataframe thead tr:last-of-type th {\n",
       "        text-align: right;\n",
       "    }\n",
       "</style>\n",
       "<table border=\"1\" class=\"dataframe\">\n",
       "  <thead>\n",
       "    <tr>\n",
       "      <th></th>\n",
       "      <th colspan=\"2\" halign=\"left\">Number of shares</th>\n",
       "      <th colspan=\"2\" halign=\"left\">Cost</th>\n",
       "    </tr>\n",
       "    <tr>\n",
       "      <th>Transaction</th>\n",
       "      <th>B</th>\n",
       "      <th>S</th>\n",
       "      <th>B</th>\n",
       "      <th>S</th>\n",
       "    </tr>\n",
       "    <tr>\n",
       "      <th>Ticker</th>\n",
       "      <th></th>\n",
       "      <th></th>\n",
       "      <th></th>\n",
       "      <th></th>\n",
       "    </tr>\n",
       "  </thead>\n",
       "  <tbody>\n",
       "    <tr>\n",
       "      <th>AAPL</th>\n",
       "      <td>200.0</td>\n",
       "      <td>50.0</td>\n",
       "      <td>13837.0</td>\n",
       "      <td>12000.0</td>\n",
       "    </tr>\n",
       "    <tr>\n",
       "      <th>GOOG</th>\n",
       "      <td>10.0</td>\n",
       "      <td>0.0</td>\n",
       "      <td>9153.9</td>\n",
       "      <td>0.0</td>\n",
       "    </tr>\n",
       "    <tr>\n",
       "      <th>TSLA</th>\n",
       "      <td>130.0</td>\n",
       "      <td>75.0</td>\n",
       "      <td>25230.0</td>\n",
       "      <td>9178.5</td>\n",
       "    </tr>\n",
       "  </tbody>\n",
       "</table>\n",
       "</div>"
      ],
      "text/plain": [
       "            Number of shares           Cost         \n",
       "Transaction                B     S        B        S\n",
       "Ticker                                              \n",
       "AAPL                   200.0  50.0  13837.0  12000.0\n",
       "GOOG                    10.0   0.0   9153.9      0.0\n",
       "TSLA                   130.0  75.0  25230.0   9178.5"
      ]
     },
     "execution_count": 352,
     "metadata": {},
     "output_type": "execute_result"
    }
   ],
   "source": [
    "basis_pivot=basis_df.pivot(index=\"Ticker\", columns=\"Transaction\", values=[\"Number of shares\", \"Cost\"])\n",
    "basis_pivot=basis_pivot.fillna(0)\n",
    "basis_pivot"
   ]
  },
  {
   "cell_type": "code",
   "execution_count": 353,
   "metadata": {},
   "outputs": [
    {
     "data": {
      "text/html": [
       "<div>\n",
       "<style scoped>\n",
       "    .dataframe tbody tr th:only-of-type {\n",
       "        vertical-align: middle;\n",
       "    }\n",
       "\n",
       "    .dataframe tbody tr th {\n",
       "        vertical-align: top;\n",
       "    }\n",
       "\n",
       "    .dataframe thead tr th {\n",
       "        text-align: left;\n",
       "    }\n",
       "</style>\n",
       "<table border=\"1\" class=\"dataframe\">\n",
       "  <thead>\n",
       "    <tr>\n",
       "      <th></th>\n",
       "      <th>Ticker</th>\n",
       "      <th colspan=\"2\" halign=\"left\">Number of shares</th>\n",
       "      <th colspan=\"2\" halign=\"left\">Cost</th>\n",
       "      <th>Shares Owned</th>\n",
       "      <th>Contribution</th>\n",
       "    </tr>\n",
       "    <tr>\n",
       "      <th>Transaction</th>\n",
       "      <th></th>\n",
       "      <th>B</th>\n",
       "      <th>S</th>\n",
       "      <th>B</th>\n",
       "      <th>S</th>\n",
       "      <th></th>\n",
       "      <th></th>\n",
       "    </tr>\n",
       "  </thead>\n",
       "  <tbody>\n",
       "    <tr>\n",
       "      <th>0</th>\n",
       "      <td>AAPL</td>\n",
       "      <td>200.0</td>\n",
       "      <td>50.0</td>\n",
       "      <td>13837.0</td>\n",
       "      <td>12000.0</td>\n",
       "      <td>150.0</td>\n",
       "      <td>1837.0</td>\n",
       "    </tr>\n",
       "    <tr>\n",
       "      <th>1</th>\n",
       "      <td>GOOG</td>\n",
       "      <td>10.0</td>\n",
       "      <td>0.0</td>\n",
       "      <td>9153.9</td>\n",
       "      <td>0.0</td>\n",
       "      <td>10.0</td>\n",
       "      <td>9153.9</td>\n",
       "    </tr>\n",
       "    <tr>\n",
       "      <th>2</th>\n",
       "      <td>TSLA</td>\n",
       "      <td>130.0</td>\n",
       "      <td>75.0</td>\n",
       "      <td>25230.0</td>\n",
       "      <td>9178.5</td>\n",
       "      <td>55.0</td>\n",
       "      <td>16051.5</td>\n",
       "    </tr>\n",
       "  </tbody>\n",
       "</table>\n",
       "</div>"
      ],
      "text/plain": [
       "            Ticker Number of shares           Cost          Shares Owned  \\\n",
       "Transaction                       B     S        B        S                \n",
       "0             AAPL            200.0  50.0  13837.0  12000.0        150.0   \n",
       "1             GOOG             10.0   0.0   9153.9      0.0         10.0   \n",
       "2             TSLA            130.0  75.0  25230.0   9178.5         55.0   \n",
       "\n",
       "            Contribution  \n",
       "Transaction               \n",
       "0                 1837.0  \n",
       "1                 9153.9  \n",
       "2                16051.5  "
      ]
     },
     "execution_count": 353,
     "metadata": {},
     "output_type": "execute_result"
    }
   ],
   "source": [
    "basis_pivot[\"Shares Owned\"]=basis_pivot[\"Number of shares\"][\"B\"]-basis_pivot[\"Number of shares\"][\"S\"]\n",
    "basis_pivot[\"Contribution\"]=basis_pivot[\"Cost\"][\"B\"]-basis_pivot[\"Cost\"][\"S\"]\n",
    "basis_pivot.reset_index(inplace=True)\n",
    "\n",
    "basis_pivot"
   ]
  },
  {
   "cell_type": "code",
   "execution_count": 358,
   "metadata": {},
   "outputs": [
    {
     "data": {
      "text/html": [
       "<div>\n",
       "<style scoped>\n",
       "    .dataframe tbody tr th:only-of-type {\n",
       "        vertical-align: middle;\n",
       "    }\n",
       "\n",
       "    .dataframe tbody tr th {\n",
       "        vertical-align: top;\n",
       "    }\n",
       "\n",
       "    .dataframe thead th {\n",
       "        text-align: right;\n",
       "    }\n",
       "</style>\n",
       "<table border=\"1\" class=\"dataframe\">\n",
       "  <thead>\n",
       "    <tr style=\"text-align: right;\">\n",
       "      <th></th>\n",
       "      <th>Ticker</th>\n",
       "      <th>Shares Owned</th>\n",
       "      <th>Contribution</th>\n",
       "    </tr>\n",
       "  </thead>\n",
       "  <tbody>\n",
       "    <tr>\n",
       "      <th>0</th>\n",
       "      <td>AAPL</td>\n",
       "      <td>150.0</td>\n",
       "      <td>1837.0</td>\n",
       "    </tr>\n",
       "    <tr>\n",
       "      <th>1</th>\n",
       "      <td>GOOG</td>\n",
       "      <td>10.0</td>\n",
       "      <td>9153.9</td>\n",
       "    </tr>\n",
       "    <tr>\n",
       "      <th>2</th>\n",
       "      <td>TSLA</td>\n",
       "      <td>55.0</td>\n",
       "      <td>16051.5</td>\n",
       "    </tr>\n",
       "  </tbody>\n",
       "</table>\n",
       "</div>"
      ],
      "text/plain": [
       "  Ticker  Shares Owned  Contribution\n",
       "0   AAPL         150.0        1837.0\n",
       "1   GOOG          10.0        9153.9\n",
       "2   TSLA          55.0       16051.5"
      ]
     },
     "execution_count": 358,
     "metadata": {},
     "output_type": "execute_result"
    }
   ],
   "source": [
    "current_holdings_df=basis_pivot.drop(columns=[\"Number of shares\", \"Cost\"])\n",
    "current_holdings_df=current_holdings_df.droplevel([1], axis=1)\n",
    "current_holdings_df"
   ]
  },
  {
   "cell_type": "code",
   "execution_count": 359,
   "metadata": {},
   "outputs": [
    {
     "data": {
      "text/html": [
       "<div>\n",
       "<style scoped>\n",
       "    .dataframe tbody tr th:only-of-type {\n",
       "        vertical-align: middle;\n",
       "    }\n",
       "\n",
       "    .dataframe tbody tr th {\n",
       "        vertical-align: top;\n",
       "    }\n",
       "\n",
       "    .dataframe thead th {\n",
       "        text-align: right;\n",
       "    }\n",
       "</style>\n",
       "<table border=\"1\" class=\"dataframe\">\n",
       "  <thead>\n",
       "    <tr style=\"text-align: right;\">\n",
       "      <th></th>\n",
       "      <th>Ticker</th>\n",
       "      <th>Shares Owned</th>\n",
       "      <th>Contribution</th>\n",
       "      <th>Ticker</th>\n",
       "      <th>Industry</th>\n",
       "      <th>Sector</th>\n",
       "    </tr>\n",
       "  </thead>\n",
       "  <tbody>\n",
       "    <tr>\n",
       "      <th>0</th>\n",
       "      <td>AAPL</td>\n",
       "      <td>150.0</td>\n",
       "      <td>1837.0</td>\n",
       "      <td>AAPL</td>\n",
       "      <td>Computer Hardware</td>\n",
       "      <td>Technology</td>\n",
       "    </tr>\n",
       "    <tr>\n",
       "      <th>1</th>\n",
       "      <td>GOOG</td>\n",
       "      <td>10.0</td>\n",
       "      <td>9153.9</td>\n",
       "      <td>GOOG</td>\n",
       "      <td>Online Media</td>\n",
       "      <td>Technology</td>\n",
       "    </tr>\n",
       "    <tr>\n",
       "      <th>2</th>\n",
       "      <td>TSLA</td>\n",
       "      <td>55.0</td>\n",
       "      <td>16051.5</td>\n",
       "      <td>TSLA</td>\n",
       "      <td>Autos</td>\n",
       "      <td>Consumer Cyclical</td>\n",
       "    </tr>\n",
       "  </tbody>\n",
       "</table>\n",
       "</div>"
      ],
      "text/plain": [
       "  Ticker  Shares Owned  Contribution Ticker           Industry  \\\n",
       "0   AAPL         150.0        1837.0   AAPL  Computer Hardware   \n",
       "1   GOOG          10.0        9153.9   GOOG       Online Media   \n",
       "2   TSLA          55.0       16051.5   TSLA              Autos   \n",
       "\n",
       "              Sector  \n",
       "0         Technology  \n",
       "1         Technology  \n",
       "2  Consumer Cyclical  "
      ]
     },
     "execution_count": 359,
     "metadata": {},
     "output_type": "execute_result"
    }
   ],
   "source": [
    "current_industry_holdings=pd.concat((current_holdings_df, sector_df), axis=\"columns\", join=\"inner\")\n",
    "\n",
    "current_industry_holdings"
   ]
  },
  {
   "cell_type": "code",
   "execution_count": 360,
   "metadata": {},
   "outputs": [
    {
     "data": {
      "text/html": [
       "<div>\n",
       "<style scoped>\n",
       "    .dataframe tbody tr th:only-of-type {\n",
       "        vertical-align: middle;\n",
       "    }\n",
       "\n",
       "    .dataframe tbody tr th {\n",
       "        vertical-align: top;\n",
       "    }\n",
       "\n",
       "    .dataframe thead th {\n",
       "        text-align: right;\n",
       "    }\n",
       "</style>\n",
       "<table border=\"1\" class=\"dataframe\">\n",
       "  <thead>\n",
       "    <tr style=\"text-align: right;\">\n",
       "      <th></th>\n",
       "      <th>Ticker</th>\n",
       "      <th>Shares Owned</th>\n",
       "      <th>Contribution</th>\n",
       "      <th>Ticker</th>\n",
       "      <th>Industry</th>\n",
       "      <th>Sector</th>\n",
       "    </tr>\n",
       "  </thead>\n",
       "  <tbody>\n",
       "    <tr>\n",
       "      <th>0</th>\n",
       "      <td>AAPL</td>\n",
       "      <td>150.0</td>\n",
       "      <td>1837.0</td>\n",
       "      <td>AAPL</td>\n",
       "      <td>Computer Hardware</td>\n",
       "      <td>Technology</td>\n",
       "    </tr>\n",
       "    <tr>\n",
       "      <th>1</th>\n",
       "      <td>GOOG</td>\n",
       "      <td>10.0</td>\n",
       "      <td>9153.9</td>\n",
       "      <td>GOOG</td>\n",
       "      <td>Online Media</td>\n",
       "      <td>Technology</td>\n",
       "    </tr>\n",
       "    <tr>\n",
       "      <th>2</th>\n",
       "      <td>TSLA</td>\n",
       "      <td>55.0</td>\n",
       "      <td>16051.5</td>\n",
       "      <td>TSLA</td>\n",
       "      <td>Autos</td>\n",
       "      <td>Consumer Cyclical</td>\n",
       "    </tr>\n",
       "  </tbody>\n",
       "</table>\n",
       "</div>"
      ],
      "text/plain": [
       "  Ticker  Shares Owned  Contribution Ticker           Industry  \\\n",
       "0   AAPL         150.0        1837.0   AAPL  Computer Hardware   \n",
       "1   GOOG          10.0        9153.9   GOOG       Online Media   \n",
       "2   TSLA          55.0       16051.5   TSLA              Autos   \n",
       "\n",
       "              Sector  \n",
       "0         Technology  \n",
       "1         Technology  \n",
       "2  Consumer Cyclical  "
      ]
     },
     "execution_count": 360,
     "metadata": {},
     "output_type": "execute_result"
    }
   ],
   "source": [
    "current_industry_holdings"
   ]
  },
  {
   "cell_type": "code",
   "execution_count": 361,
   "metadata": {},
   "outputs": [
    {
     "data": {
      "text/html": [
       "<div>\n",
       "<style scoped>\n",
       "    .dataframe tbody tr th:only-of-type {\n",
       "        vertical-align: middle;\n",
       "    }\n",
       "\n",
       "    .dataframe tbody tr th {\n",
       "        vertical-align: top;\n",
       "    }\n",
       "\n",
       "    .dataframe thead th {\n",
       "        text-align: right;\n",
       "    }\n",
       "</style>\n",
       "<table border=\"1\" class=\"dataframe\">\n",
       "  <thead>\n",
       "    <tr style=\"text-align: right;\">\n",
       "      <th></th>\n",
       "      <th>Shares Owned</th>\n",
       "      <th>Contribution</th>\n",
       "    </tr>\n",
       "    <tr>\n",
       "      <th>Industry</th>\n",
       "      <th></th>\n",
       "      <th></th>\n",
       "    </tr>\n",
       "  </thead>\n",
       "  <tbody>\n",
       "    <tr>\n",
       "      <th>Autos</th>\n",
       "      <td>55.0</td>\n",
       "      <td>16051.5</td>\n",
       "    </tr>\n",
       "    <tr>\n",
       "      <th>Computer Hardware</th>\n",
       "      <td>150.0</td>\n",
       "      <td>1837.0</td>\n",
       "    </tr>\n",
       "    <tr>\n",
       "      <th>Online Media</th>\n",
       "      <td>10.0</td>\n",
       "      <td>9153.9</td>\n",
       "    </tr>\n",
       "  </tbody>\n",
       "</table>\n",
       "</div>"
      ],
      "text/plain": [
       "                   Shares Owned  Contribution\n",
       "Industry                                     \n",
       "Autos                      55.0       16051.5\n",
       "Computer Hardware         150.0        1837.0\n",
       "Online Media               10.0        9153.9"
      ]
     },
     "execution_count": 361,
     "metadata": {},
     "output_type": "execute_result"
    }
   ],
   "source": [
    "industry_holdings = current_industry_holdings.groupby(\"Industry\").sum()\n",
    "\n",
    "industry_holdings\n"
   ]
  },
  {
   "cell_type": "code",
   "execution_count": 362,
   "metadata": {},
   "outputs": [
    {
     "data": {
      "image/png": "[encoded data removed]",
      "text/plain": [
       "<Figure size 720x720 with 1 Axes>"
      ]
     },
     "metadata": {},
     "output_type": "display_data"
    },
    {
     "data": {
      "image/png": "[encoded data removed]",
      "text/plain": [
       "<Figure size 720x720 with 1 Axes>"
      ]
     },
     "metadata": {},
     "output_type": "display_data"
    }
   ],
   "source": [
    "industry_contribution_pie=industry_holdings.plot(kind=\"pie\", y=\"Contribution\", figsize=(10, 10), legend=True, title=\"Contributions by Industry\")\n",
    "industry_shares_pie=industry_holdings.plot(kind=\"pie\", y=\"Shares Owned\", figsize=(10, 10), legend=True, title=\"Shares Owned by Industry\")"
   ]
  },
  {
   "cell_type": "code",
   "execution_count": null,
   "metadata": {},
   "outputs": [],
   "source": []
  },
  {
   "cell_type": "code",
   "execution_count": 363,
   "metadata": {},
   "outputs": [
    {
     "data": {
      "text/html": [
       "<div>\n",
       "<style scoped>\n",
       "    .dataframe tbody tr th:only-of-type {\n",
       "        vertical-align: middle;\n",
       "    }\n",
       "\n",
       "    .dataframe tbody tr th {\n",
       "        vertical-align: top;\n",
       "    }\n",
       "\n",
       "    .dataframe thead th {\n",
       "        text-align: right;\n",
       "    }\n",
       "</style>\n",
       "<table border=\"1\" class=\"dataframe\">\n",
       "  <thead>\n",
       "    <tr style=\"text-align: right;\">\n",
       "      <th></th>\n",
       "      <th>Shares Owned</th>\n",
       "      <th>Contribution</th>\n",
       "    </tr>\n",
       "    <tr>\n",
       "      <th>Sector</th>\n",
       "      <th></th>\n",
       "      <th></th>\n",
       "    </tr>\n",
       "  </thead>\n",
       "  <tbody>\n",
       "    <tr>\n",
       "      <th>Consumer Cyclical</th>\n",
       "      <td>55.0</td>\n",
       "      <td>16051.5</td>\n",
       "    </tr>\n",
       "    <tr>\n",
       "      <th>Technology</th>\n",
       "      <td>160.0</td>\n",
       "      <td>10990.9</td>\n",
       "    </tr>\n",
       "  </tbody>\n",
       "</table>\n",
       "</div>"
      ],
      "text/plain": [
       "                   Shares Owned  Contribution\n",
       "Sector                                       \n",
       "Consumer Cyclical          55.0       16051.5\n",
       "Technology                160.0       10990.9"
      ]
     },
     "execution_count": 363,
     "metadata": {},
     "output_type": "execute_result"
    }
   ],
   "source": [
    "sector_holdings= current_industry_holdings.groupby(\"Sector\").sum()\n",
    "\n",
    "sector_holdings"
   ]
  },
  {
   "cell_type": "code",
   "execution_count": 366,
   "metadata": {},
   "outputs": [
    {
     "data": {
      "image/png": "[encoded data removed]",
      "text/plain": [
       "<Figure size 720x720 with 1 Axes>"
      ]
     },
     "metadata": {},
     "output_type": "display_data"
    },
    {
     "data": {
      "image/png": "[encoded data removed]",
      "text/plain": [
       "<Figure size 720x720 with 1 Axes>"
      ]
     },
     "metadata": {},
     "output_type": "display_data"
    }
   ],
   "source": [
    "\n",
    "sector_contribution_pie=sector_holdings.plot(kind=\"pie\", y=\"Contribution\", figsize=(10, 10), legend=True, title=\"Contributions by Sector\")\n",
    "sector_shares_pie=sector_holdings.plot(kind=\"pie\", y=\"Shares Owned\", figsize=(10, 10), legend=True, title=\"Shares Owned by Sector\")\n"
   ]
  },
  {
   "cell_type": "code",
   "execution_count": 368,
   "metadata": {},
   "outputs": [
    {
     "data": {
      "image/png": "[encoded data removed]",
      "text/plain": [
       "<Figure size 720x720 with 1 Axes>"
      ]
     },
     "metadata": {},
     "output_type": "display_data"
    },
    {
     "data": {
      "image/png": "[encoded data removed]",
      "text/plain": [
       "<Figure size 720x720 with 1 Axes>"
      ]
     },
     "metadata": {},
     "output_type": "display_data"
    }
   ],
   "source": [
    "holdings_contribution_pie=current_holdings_df.plot(kind=\"pie\", y=\"Contribution\", figsize=(10, 10), legend=True, title=\"Contributions by Stock\")\n",
    "holdings_shares_pie=current_holdings_df.plot(kind=\"pie\", y=\"Shares Owned\", figsize=(10, 10), legend=True, title=\"Shares Owned by Stock\")\n"
   ]
  },
  {
   "cell_type": "code",
   "execution_count": null,
   "metadata": {},
   "outputs": [],
   "source": []
  }
 ],
 "metadata": {
  "kernelspec": {
   "display_name": "Python 3",
   "language": "python",
   "name": "python3"
  },
  "language_info": {
   "codemirror_mode": {
    "name": "ipython",
    "version": 3
   },
   "file_extension": ".py",
   "mimetype": "text/x-python",
   "name": "python",
   "nbconvert_exporter": "python",
   "pygments_lexer": "ipython3",
   "version": "3.7.6"
  }
 },
 "nbformat": 4,
 "nbformat_minor": 4
}
